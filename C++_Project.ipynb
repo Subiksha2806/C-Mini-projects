{
  "nbformat": 4,
  "nbformat_minor": 0,
  "metadata": {
    "colab": {
      "provenance": []
    },
    "kernelspec": {
      "name": "python3",
      "display_name": "Python 3"
    },
    "language_info": {
      "name": "python"
    }
  },
  "cells": [
    {
      "cell_type": "markdown",
      "source": [
        "### Mood-Based Music Recommender"
      ],
      "metadata": {
        "id": "AglUaXXNFB0b"
      }
    },
    {
      "cell_type": "code",
      "execution_count": 32,
      "metadata": {
        "colab": {
          "base_uri": "https://localhost:8080/"
        },
        "id": "wLR3L36JyICH",
        "outputId": "6fc2de27-57a7-454f-cb98-3a757537d952"
      },
      "outputs": [
        {
          "output_type": "stream",
          "name": "stdout",
          "text": [
            "Overwriting music.cpp\n"
          ]
        }
      ],
      "source": [
        "%%writefile music.cpp\n",
        "#include <iostream>\n",
        "#include <cstdlib>\n",
        "#include <ctime>\n",
        "#include <cstring>\n",
        "\n",
        "using namespace std;\n",
        "\n",
        "// Function to recommend a song based on mood\n",
        "void recommendSong(const char mood[]) {\n",
        "    const char* happySongs[] = {\n",
        "        \"Happy - Pharrell Williams\",\n",
        "        \"Can't Stop the Feeling - Justin Timberlake\",\n",
        "        \"On Top of the World - Imagine Dragons\"\n",
        "    };\n",
        "\n",
        "    const char* sadSongs[] = {\n",
        "        \"Someone Like You - Adele\",\n",
        "        \"Fix You - Coldplay\",\n",
        "        \"Let Her Go - Passenger\"\n",
        "    };\n",
        "\n",
        "    const char* angrySongs[] = {\n",
        "        \"Lose Yourself - Eminem\",\n",
        "        \"In The End - Linkin Park\",\n",
        "        \"Smells Like Teen Spirit - Nirvana\"\n",
        "    };\n",
        "\n",
        "    const char* chillSongs[] = {\n",
        "        \"Sunflower - Post Malone\",\n",
        "        \"Location - Khalid\",\n",
        "        \"Ocean Eyes - Billie Eilish\"\n",
        "    };\n",
        "\n",
        "    const char* romanticSongs[] = {\n",
        "        \"Perfect - Ed Sheeran\",\n",
        "        \"All of Me - John Legend\",\n",
        "        \"Thinking Out Loud - Ed Sheeran\"\n",
        "    };\n",
        "\n",
        "    int choice = rand() % 3;\n",
        "\n",
        "    if (strcmp(mood, \"happy\") == 0) {\n",
        "        cout << \"🎵 Try: \" << happySongs[choice] << endl;\n",
        "    } else if (strcmp(mood, \"sad\") == 0) {\n",
        "        cout << \"🎵 Try: \" << sadSongs[choice] << endl;\n",
        "    } else if (strcmp(mood, \"angry\") == 0) {\n",
        "        cout << \"🎵 Try: \" << angrySongs[choice] << endl;\n",
        "    } else if (strcmp(mood, \"chill\") == 0) {\n",
        "        cout << \"🎵 Try: \" << chillSongs[choice] << endl;\n",
        "    } else if (strcmp(mood, \"romantic\") == 0) {\n",
        "        cout << \"🎵 Try: \" << romanticSongs[choice] << endl;\n",
        "    } else {\n",
        "        cout << \"❌ Mood not recognized. Try: happy, sad, angry, chill, romantic.\" << endl;\n",
        "    }\n",
        "}\n",
        "\n",
        "int main() {\n",
        "    srand(time(NULL));\n",
        "    char mood[20];\n",
        "\n",
        "    cout << \"Welcome to Mood-Based Music Recommender 🎧\" << endl;\n",
        "    cout << \"Enter your mood (happy, sad, angry, chill, romantic): \";\n",
        "    cin >> mood;\n",
        "\n",
        "    // Convert to lowercase manually (optional)\n",
        "    for (int i = 0; mood[i]; i++)\n",
        "    {\n",
        "        mood[i] = tolower(mood[i]);\n",
        "    }\n",
        "\n",
        "    recommendSong(mood);\n",
        "\n",
        "    return 0;\n",
        "}\n"
      ]
    },
    {
      "cell_type": "code",
      "source": [
        "!g++ music.cpp -o music"
      ],
      "metadata": {
        "id": "V7e6RiHlyZoZ"
      },
      "execution_count": 33,
      "outputs": []
    },
    {
      "cell_type": "code",
      "source": [
        "!./music"
      ],
      "metadata": {
        "colab": {
          "base_uri": "https://localhost:8080/"
        },
        "id": "4Gu6JpcmyZt-",
        "outputId": "47801e1b-3e88-4001-b53c-e58cbe532270"
      },
      "execution_count": 34,
      "outputs": [
        {
          "output_type": "stream",
          "name": "stdout",
          "text": [
            "Welcome to Mood-Based Music Recommender 🎧\n",
            "Enter your mood (happy, sad, angry, chill, romantic): angry\n",
            "🎵 Try: In The End - Linkin Park\n"
          ]
        }
      ]
    },
    {
      "cell_type": "markdown",
      "source": [
        "## Fake Email Generator"
      ],
      "metadata": {
        "id": "DThU4xZZEyb6"
      }
    },
    {
      "cell_type": "code",
      "source": [
        "%%writefile mail.cpp\n",
        "#include <iostream>\n",
        "#include <cstdlib>\n",
        "#include <ctime>\n",
        "using namespace std;\n",
        "\n",
        "// Generate random number within a range\n",
        "int randomNum(int min, int max) {\n",
        "    return rand() % (max - min + 1) + min;\n",
        "}\n",
        "\n",
        "// Pick random item from array\n",
        "string pickRandom(string arr[], int size) {\n",
        "    return arr[rand() % size];\n",
        "}\n",
        "\n",
        "// Generate a fake email address\n",
        "string generateEmail() {\n",
        "    string firstNames[] = {\"john\", \"emma\", \"alex\", \"sara\", \"mike\", \"lisa\", \"tom\", \"nina\"};\n",
        "    string lastNames[] = {\"smith\", \"brown\", \"jones\", \"taylor\", \"lee\", \"martin\", \"clark\"};\n",
        "    string domains[] = {\"@gmail.com\" ,\"@yahoo.com\", \"@outlook.com\", \"@example.com\", \"@mail.com\"};\n",
        "\n",
        "    string firstName = pickRandom(firstNames, sizeof(firstNames) / sizeof(firstNames[0]));\n",
        "    string lastName = pickRandom(lastNames, sizeof(lastNames) / sizeof(lastNames[0]));\n",
        "    int number = randomNum(10, 9999);\n",
        "    string domain = pickRandom(domains, sizeof(domains) / sizeof(domains[0]));\n",
        "\n",
        "    return firstName + \".\" + lastName + to_string(number) + domain;\n",
        "}\n",
        "\n",
        "int main() {\n",
        "    srand(time(0));  // Seed for random generator\n",
        "\n",
        "    int count;\n",
        "    cout << \"🔧 How many fake emails do you want to generate? \";\n",
        "    cin >> count;\n",
        "\n",
        "    cout << \"\\n📧 Generating \" << count << \" fake email(s):\\n\\n\";\n",
        "    for (int i = 0; i < count; i++) {\n",
        "        cout << i + 1 << \". \" << generateEmail() << endl;\n",
        "    }\n",
        "\n",
        "    return 0;\n",
        "}\n"
      ],
      "metadata": {
        "colab": {
          "base_uri": "https://localhost:8080/"
        },
        "id": "jw8Gz1dY6fRy",
        "outputId": "eebae7ea-68c2-4018-8a45-0533366720c2"
      },
      "execution_count": 68,
      "outputs": [
        {
          "output_type": "stream",
          "name": "stdout",
          "text": [
            "Overwriting mail.cpp\n"
          ]
        }
      ]
    },
    {
      "cell_type": "code",
      "source": [
        "!g++ mail.cpp -o mail"
      ],
      "metadata": {
        "id": "Z4VtwYpJ6jo6"
      },
      "execution_count": 69,
      "outputs": []
    },
    {
      "cell_type": "code",
      "source": [
        "!./mail"
      ],
      "metadata": {
        "colab": {
          "base_uri": "https://localhost:8080/"
        },
        "id": "8k41OoUx6jsd",
        "outputId": "a177f706-d05a-476c-f58d-363e81bc419c"
      },
      "execution_count": 80,
      "outputs": [
        {
          "output_type": "stream",
          "name": "stdout",
          "text": [
            "🔧 How many fake emails do you want to generate? ^C\n"
          ]
        }
      ]
    },
    {
      "cell_type": "markdown",
      "source": [
        "### Expense Tracker with Graph"
      ],
      "metadata": {
        "id": "knyjA0duEpFG"
      }
    },
    {
      "cell_type": "code",
      "source": [
        "%%writefile expence.cpp\n",
        "#include <iostream>\n",
        "#include <iomanip>\n",
        "#include <string>\n",
        "using namespace std;\n",
        "\n",
        "const int CATEGORY_COUNT = 5;\n",
        "string categories[CATEGORY_COUNT] = {\"Food\", \"Rent\", \"Travel\", \"Utilities\", \"Other\"};\n",
        "\n",
        "void displayGraph(double amounts[]) {\n",
        "    cout << \"\\n📊 Expense Summary (Bar Graph):\\n\";\n",
        "    double maxExpense = 0;\n",
        "    for (int i = 0; i < CATEGORY_COUNT; i++) {\n",
        "        if (amounts[i] > maxExpense)\n",
        "            maxExpense = amounts[i];\n",
        "    }\n",
        "\n",
        "    for (int i = 0; i < CATEGORY_COUNT; i++) {\n",
        "        cout << setw(10) << left << categories[i] << \" | \";\n",
        "\n",
        "        int barLength = (amounts[i] / maxExpense) * 30; // scale to 30 characters\n",
        "        for (int j = 0; j < barLength; j++)\n",
        "            cout << \"#\";\n",
        "\n",
        "        cout << \" ₹\" << fixed << setprecision(2) << amounts[i] << endl;\n",
        "    }\n",
        "}\n",
        "\n",
        "int main() {\n",
        "    double expenses[CATEGORY_COUNT] = {0};\n",
        "    int choice;\n",
        "    double amount;\n",
        "\n",
        "    cout << \"📒 Welcome to Simple Expense Tracker\\n\";\n",
        "\n",
        "    while (true) {\n",
        "        cout << \"\\nChoose a category to add expense:\\n\";\n",
        "        for (int i = 0; i < CATEGORY_COUNT; i++) {\n",
        "            cout << i + 1 << \". \" << categories[i] << endl;\n",
        "        }\n",
        "        cout << \"0. Exit and Show Report\\n\";\n",
        "\n",
        "        cout << \"\\nEnter your choice: \";\n",
        "        cin >> choice;\n",
        "\n",
        "        if (choice == 0)\n",
        "            break;\n",
        "\n",
        "        if (choice < 1 || choice > CATEGORY_COUNT) {\n",
        "            cout << \"❌ Invalid category. Try again.\\n\";\n",
        "            continue;\n",
        "        }\n",
        "\n",
        "        cout << \"Enter amount for \" << categories[choice - 1] << \": ₹\";\n",
        "        cin >> amount;\n",
        "\n",
        "        if (amount < 0) {\n",
        "            cout << \"❌ Amount cannot be negative.\\n\";\n",
        "            continue;\n",
        "        }\n",
        "\n",
        "        expenses[choice - 1] += amount;\n",
        "        cout << \"✅ Added ₹\" << amount << \" to \" << categories[choice - 1] << \".\";\n",
        "    }\n",
        "\n",
        "    cout << \"\\n💰 Expense Report:\\n\";\n",
        "    double total = 0;\n",
        "    for (int i = 0; i < CATEGORY_COUNT; i++) {\n",
        "        cout << setw(10) << left << categories[i] << \": ₹\" << fixed << setprecision(2) << expenses[i] << endl;\n",
        "        total += expenses[i];\n",
        "    }\n",
        "\n",
        "    cout << \"\\nTotal Expenses: ₹\" << fixed << setprecision(2) << total << endl;\n",
        "\n",
        "    displayGraph(expenses);\n",
        "\n",
        "    return 0;\n",
        "}\n"
      ],
      "metadata": {
        "colab": {
          "base_uri": "https://localhost:8080/"
        },
        "id": "-iZVzBIVC6rp",
        "outputId": "9d1f2ec1-2001-4e8a-a600-6b89cc7c8dd0"
      },
      "execution_count": 75,
      "outputs": [
        {
          "output_type": "stream",
          "name": "stdout",
          "text": [
            "Writing expence.cpp\n"
          ]
        }
      ]
    },
    {
      "cell_type": "code",
      "source": [
        "!g++ expence.cpp -o expence"
      ],
      "metadata": {
        "id": "n536JhIoDBKF"
      },
      "execution_count": 76,
      "outputs": []
    },
    {
      "cell_type": "code",
      "source": [
        "!./expence"
      ],
      "metadata": {
        "colab": {
          "base_uri": "https://localhost:8080/"
        },
        "collapsed": true,
        "id": "smoufnWuDBNh",
        "outputId": "491e0b57-d063-49d2-dfb6-ad0e65efeb7f"
      },
      "execution_count": 79,
      "outputs": [
        {
          "output_type": "stream",
          "name": "stdout",
          "text": [
            "📒 Welcome to Simple Expense Tracker\n",
            "\n",
            "Choose a category to add expense:\n",
            "1. Food\n",
            "2. Rent\n",
            "3. Travel\n",
            "4. Utilities\n",
            "5. Other\n",
            "0. Exit and Show Report\n",
            "\n",
            "Enter your choice: 0\n",
            "\n",
            "💰 Expense Report:\n",
            "Food      : ₹0.00\n",
            "Rent      : ₹0.00\n",
            "Travel    : ₹0.00\n",
            "Utilities : ₹0.00\n",
            "Other     : ₹0.00\n",
            "\n",
            "Total Expenses: ₹0.00\n",
            "\n",
            "📊 Expense Summary (Bar Graph):\n",
            "Food       |  ₹0.00\n",
            "Rent       |  ₹0.00\n",
            "Travel     |  ₹0.00\n",
            "Utilities  |  ₹0.00\n",
            "Other      |  ₹0.00\n"
          ]
        }
      ]
    },
    {
      "cell_type": "code",
      "source": [
        "%%writefile chat.cpp\n",
        "#include <iostream>\n",
        "#include <string>\n",
        "using namespace std;\n",
        "\n",
        "// Manually convert a string to lowercase\n",
        "string toLowerCase(string str) {\n",
        "    for (int i = 0; i < str.length(); i++) {\n",
        "        if (str[i] >= 'A' && str[i] <= 'Z') {\n",
        "            str[i] = str[i] + 32; // Convert to lowercase\n",
        "        }\n",
        "    }\n",
        "    return str;\n",
        "}\n",
        "\n",
        "// Get chatbot response based on input\n",
        "string getResponse(string input) {\n",
        "    input = toLowerCase(input);\n",
        "\n",
        "    if (input.find(\"hello\") != string::npos || input.find(\"hi\") != string::npos)\n",
        "        return \"Hey there! 👋\";\n",
        "    else if (input.find(\"how are you\") != string::npos)\n",
        "        return \"I'm just a bot, but I'm doing great! 😄\";\n",
        "    else if (input.find(\"your name\") != string::npos)\n",
        "        return \"I'm C++Bot 🤖. Nice to meet you!\";\n",
        "    else if (input.find(\"bye\") != string::npos)\n",
        "        return \"Goodbye! Have a great day 🌟\";\n",
        "    else if (input.find(\"help\") != string::npos)\n",
        "        return \"Try typing: hello, how are you, your name, joke, bye.\";\n",
        "    else if (input.find(\"joke\") != string::npos)\n",
        "        return \"Why do Java developers wear glasses? Because they can't C#! 😆\";\n",
        "    else\n",
        "        return \"Hmm... I don't understand that. Try something else!\";\n",
        "}\n",
        "\n",
        "int main() {\n",
        "    cout << \"🤖 Welcome to C++ Chatbot (Offline Mode)\\nType 'bye' to exit.\\n\\n\";\n",
        "\n",
        "    string userInput;\n",
        "\n",
        "    while (true) {\n",
        "        cout << \"You: \";\n",
        "        getline(cin, userInput);\n",
        "\n",
        "        if (toLowerCase(userInput) == \"bye\") {\n",
        "            cout << \"Bot: \" << getResponse(userInput) << endl;\n",
        "            break;\n",
        "        }\n",
        "\n",
        "        cout << \"Bot: \" << getResponse(userInput) << endl;\n",
        "    }\n",
        "\n",
        "    return 0;\n",
        "}\n"
      ],
      "metadata": {
        "colab": {
          "base_uri": "https://localhost:8080/"
        },
        "id": "ha0PVxbUF0fO",
        "outputId": "a28103aa-ab3d-481a-dee0-ba98fe3f422f"
      },
      "execution_count": 81,
      "outputs": [
        {
          "output_type": "stream",
          "name": "stdout",
          "text": [
            "Writing chat.cpp\n"
          ]
        }
      ]
    },
    {
      "cell_type": "code",
      "source": [
        "!g++ chat.cpp -o chat"
      ],
      "metadata": {
        "id": "mSY50aXfGEY2"
      },
      "execution_count": 82,
      "outputs": []
    },
    {
      "cell_type": "code",
      "source": [
        "!./chat"
      ],
      "metadata": {
        "colab": {
          "base_uri": "https://localhost:8080/"
        },
        "collapsed": true,
        "id": "7LSHows9GELe",
        "outputId": "8dca01ef-e175-4e7c-fafb-27a53482c5b5"
      },
      "execution_count": 84,
      "outputs": [
        {
          "output_type": "stream",
          "name": "stdout",
          "text": [
            "🤖 Welcome to C++ Chatbot (Offline Mode)\n",
            "Type 'bye' to exit.\n",
            "\n",
            "You: ^C\n"
          ]
        }
      ]
    }
  ]
}